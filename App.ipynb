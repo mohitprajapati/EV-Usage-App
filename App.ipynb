{
 "cells": [
  {
   "cell_type": "code",
   "execution_count": 20,
   "id": "9bdfc1e5",
   "metadata": {},
   "outputs": [],
   "source": [
    "import streamlit as st\n",
    "import datetime\n",
    "import keras"
   ]
  },
  {
   "cell_type": "code",
   "execution_count": 19,
   "id": "804fa950",
   "metadata": {},
   "outputs": [],
   "source": [
    "st.title('EV Charging station usage')\n",
    "terminal = st.selectbox(\"Please select one of the terminals: \",\n",
    "                     ['S7-T1', 'S2-T1', 'S19-T1', 'S56-T3', 'S85-T3','S16-T3', 'S16-T1',\n",
    "                     'S94-T3', 'S28-T1', 'S62-T3', 'S14-T3', 'S8-T1', 'S8-T3', 'S34-T3',\n",
    "                     'S6-T2', 'S29-T3', 'S64-T1', 'S11-T1', 'S76-T3', 'S59-T1'])\n",
    " \n",
    "# print the selected hobby\n",
    "st.write(\"You Selected : \", terminal)\n",
    "\n",
    "d = st.date_input(\"Please Select the date\", datetime.date(2019, 11, 1), min_value=datetime.date(2019, 11, 1), \n",
    "                  max_value=datetime.date(2021, 2, 1)) \n",
    "st.write('Your selected date is:', d)\n",
    "\n",
    "t = st.time_input('Please select the time', datetime.time(8, 45))\n",
    "st.write('Your selected time is:', t)\n",
    "\n",
    "\n",
    "\n",
    "# Create a button, that when clicked, shows a text\n",
    "if(st.button(\"Please Submit the data\")):\n",
    "    if terminal in ['S7-T1', 'S19-T1', 'S85-T3', 'S28-T1', 'S62-T3']:\n",
    "        st.text(\"This terminal is: DOWN\")\n",
    "    elif \n"
   ]
  },
  {
   "cell_type": "code",
   "execution_count": null,
   "id": "17646f50",
   "metadata": {},
   "outputs": [],
   "source": []
  }
 ],
 "metadata": {
  "kernelspec": {
   "display_name": "Python 3",
   "language": "python",
   "name": "python3"
  },
  "language_info": {
   "codemirror_mode": {
    "name": "ipython",
    "version": 3
   },
   "file_extension": ".py",
   "mimetype": "text/x-python",
   "name": "python",
   "nbconvert_exporter": "python",
   "pygments_lexer": "ipython3",
   "version": "3.8.10"
  }
 },
 "nbformat": 4,
 "nbformat_minor": 5
}
