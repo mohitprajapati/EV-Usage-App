{
 "cells": [
  {
   "cell_type": "code",
   "execution_count": 1,
   "metadata": {
    "id": "gb0d20Fi8oj_"
   },
   "outputs": [],
   "source": [
    "import numpy as np # Importing numpy for performing array and matrix operations \n",
    "import pandas as pd # Importing pandas to read data in dataframe\n",
    "\n",
    "# Libraries to plot the distribution of classes \n",
    "import seaborn as sns\n",
    "import matplotlib.pyplot as plt\n",
    "import datetime #I will use this to Convert ISO8601 format to unix time\n",
    "from matplotlib.pyplot import figure\n",
    "\n",
    "import os\n",
    "import random\n",
    "\n",
    "import time #I will use this to Convert ISO8601 format to unix time\n",
    "from datetime import datetime\n",
    "\n",
    "import warnings\n",
    "warnings.filterwarnings(\"ignore\")\n",
    "\n",
    "from sklearn import linear_model  #Importing linear models like logistics regression and SVC\n",
    "from sklearn.preprocessing import LabelEncoder  # To convert every class  into numeric labels \n",
    "from sklearn.metrics import f1_score       # to calculate F1 score \n",
    "from sklearn.metrics import classification_report # to know every metric\n",
    "from tqdm import tqdm\n",
    "\n",
    "from sklearn.model_selection import train_test_split\n",
    "\n",
    "import tensorflow as tf\n",
    "\n",
    "from tensorflow.keras import backend as K\n",
    "from collections import deque\n",
    "from tensorflow.keras.layers import Layer\n",
    "from keras.models import Sequential\n",
    "from keras.layers import Dense\n",
    "from keras.layers import LSTM, Input,concatenate\n",
    "from tensorflow.keras.utils import to_categorical\n",
    "from tensorflow.keras import layers, Model, backend as K"
   ]
  },
  {
   "cell_type": "code",
   "execution_count": 2,
   "metadata": {
    "id": "QdyvEavLHLgp"
   },
   "outputs": [],
   "source": [
    "data1= pd.read_csv('/content/drive/MyDrive/AAIC_Assignment/ytrain_NpxebDC.csv', parse_dates=['timestamp'],\n",
    "index_col= ['timestamp']) # Reading the csv file in data dataframe "
   ]
  },
  {
   "cell_type": "code",
   "execution_count": 3,
   "metadata": {
    "colab": {
     "base_uri": "https://localhost:8080/"
    },
    "id": "TbaG44M7MiJ_",
    "outputId": "50e0e9a2-2811-4aec-fca7-1182bc1ff79d"
   },
   "outputs": [
    {
     "data": {
      "text/plain": [
       "0"
      ]
     },
     "execution_count": 3,
     "metadata": {
      "tags": []
     },
     "output_type": "execute_result"
    }
   ],
   "source": [
    "for col in data1:    # for every column in the data frame\n",
    "    if col!='timestamp':\n",
    "        data1[col]=data1[col].fillna('Offline')  # Filling the missing class label with Down as explained above\n",
    "data1['S7-T1'].isnull().sum() # counting the NAN values"
   ]
  },
  {
   "cell_type": "code",
   "execution_count": 4,
   "metadata": {
    "id": "b9x0D6SeHQz9"
   },
   "outputs": [],
   "source": [
    "data, test_data=train_test_split(data1, test_size=0.10, shuffle=False)"
   ]
  },
  {
   "cell_type": "code",
   "execution_count": 5,
   "metadata": {
    "id": "4f4bQ8zEG91W"
   },
   "outputs": [],
   "source": [
    "def date_time(data):\n",
    "# Initializing Empty lists\n",
    "   \n",
    "    month=[]\n",
    "    week=[]\n",
    "    date=[]\n",
    "    hr=[]\n",
    "    minute=[]\n",
    "\n",
    "# I have made timestamp column as an index of the dataframe for easy plotting operations\n",
    "    for i in data.index: # For every index of the dataframe\n",
    "    #print(i)\n",
    "    #break\n",
    "    #dt = datetime.datetime.strptime(i, \"%Y-%m-%dT%H:%M:%S%z\")\n",
    "        dt=i\n",
    "    # Appending the month, day, weekday, hour and minute in lists\n",
    "        \n",
    "        month.append(dt.month)\n",
    "        week.append(dt.weekday()) #Monday is 0 and Sunday is 6\n",
    "        date.append(dt.day)\n",
    "        hr.append(dt.hour)\n",
    "        minute.append(dt.minute)\n",
    "# making X as a data frame \n",
    "    return pd.DataFrame(list(zip( month, week, date, hr, minute)), columns =['Month_name', 'Week_number', 'Date', 'Hour', 'Minute'])"
   ]
  },
  {
   "cell_type": "code",
   "execution_count": 6,
   "metadata": {
    "colab": {
     "base_uri": "https://localhost:8080/"
    },
    "id": "G4NomMzrHCeT",
    "outputId": "4ad77db3-ebb7-487e-e735-993b9f7c30c0"
   },
   "outputs": [
    {
     "name": "stdout",
     "output_type": "stream",
     "text": [
      "<class 'pandas.core.frame.DataFrame'>\n"
     ]
    }
   ],
   "source": [
    "X=date_time(data)\n",
    "print(type(X))"
   ]
  },
  {
   "cell_type": "code",
   "execution_count": 7,
   "metadata": {
    "colab": {
     "base_uri": "https://localhost:8080/",
     "height": 204
    },
    "id": "ZdbC5lgdHYGV",
    "outputId": "e507b8ff-f232-45d4-f0ed-d85f8f0c8a5c"
   },
   "outputs": [
    {
     "data": {
      "text/html": [
       "<div>\n",
       "<style scoped>\n",
       "    .dataframe tbody tr th:only-of-type {\n",
       "        vertical-align: middle;\n",
       "    }\n",
       "\n",
       "    .dataframe tbody tr th {\n",
       "        vertical-align: top;\n",
       "    }\n",
       "\n",
       "    .dataframe thead th {\n",
       "        text-align: right;\n",
       "    }\n",
       "</style>\n",
       "<table border=\"1\" class=\"dataframe\">\n",
       "  <thead>\n",
       "    <tr style=\"text-align: right;\">\n",
       "      <th></th>\n",
       "      <th>Month_name</th>\n",
       "      <th>Week_number</th>\n",
       "      <th>Date</th>\n",
       "      <th>Hour</th>\n",
       "      <th>Minute</th>\n",
       "    </tr>\n",
       "  </thead>\n",
       "  <tbody>\n",
       "    <tr>\n",
       "      <th>0</th>\n",
       "      <td>10</td>\n",
       "      <td>4</td>\n",
       "      <td>2</td>\n",
       "      <td>4</td>\n",
       "      <td>45</td>\n",
       "    </tr>\n",
       "    <tr>\n",
       "      <th>1</th>\n",
       "      <td>10</td>\n",
       "      <td>4</td>\n",
       "      <td>2</td>\n",
       "      <td>5</td>\n",
       "      <td>0</td>\n",
       "    </tr>\n",
       "    <tr>\n",
       "      <th>2</th>\n",
       "      <td>10</td>\n",
       "      <td>4</td>\n",
       "      <td>2</td>\n",
       "      <td>5</td>\n",
       "      <td>15</td>\n",
       "    </tr>\n",
       "    <tr>\n",
       "      <th>3</th>\n",
       "      <td>10</td>\n",
       "      <td>4</td>\n",
       "      <td>2</td>\n",
       "      <td>5</td>\n",
       "      <td>30</td>\n",
       "    </tr>\n",
       "    <tr>\n",
       "      <th>4</th>\n",
       "      <td>10</td>\n",
       "      <td>4</td>\n",
       "      <td>2</td>\n",
       "      <td>5</td>\n",
       "      <td>45</td>\n",
       "    </tr>\n",
       "  </tbody>\n",
       "</table>\n",
       "</div>"
      ],
      "text/plain": [
       "   Month_name  Week_number  Date  Hour  Minute\n",
       "0          10            4     2     4      45\n",
       "1          10            4     2     5       0\n",
       "2          10            4     2     5      15\n",
       "3          10            4     2     5      30\n",
       "4          10            4     2     5      45"
      ]
     },
     "execution_count": 7,
     "metadata": {
      "tags": []
     },
     "output_type": "execute_result"
    }
   ],
   "source": [
    "X_test=date_time(test_data)\n",
    "X_test.head()"
   ]
  },
  {
   "cell_type": "code",
   "execution_count": 8,
   "metadata": {
    "id": "xWxauiIfAU9Z"
   },
   "outputs": [],
   "source": [
    "### DEFINE T2V LAYER ###\n",
    "#https://towardsdatascience.com/time2vec-for-time-series-features-encoding-a03a4f3f937e\n",
    "class T2V(tf.keras.layers.Layer):\n",
    "    \n",
    "    def __init__(self, output_dim=None):\n",
    "        super().__init__()\n",
    "        self.output_dim = output_dim\n",
    "        \n",
    "        \n",
    "    def build(self, input_shape):\n",
    "\n",
    "        self.W = self.add_weight(name='W',shape=(input_shape[-1], self.output_dim), initializer='uniform',trainable=True)\n",
    "\n",
    "        self.P = self.add_weight(name='P',shape=(input_shape[1], self.output_dim), initializer='uniform',trainable=True)\n",
    "\n",
    "        self.w = self.add_weight(name='w', shape=(input_shape[1], 1),initializer='uniform', trainable=True)\n",
    "\n",
    "        self.p = self.add_weight(name='p',shape=(input_shape[1], 1),initializer='uniform', trainable=True)\n",
    "\n",
    "        #super(T2V, self).build(input_shape)\n",
    "        \n",
    "    def call(self, x):\n",
    "        \n",
    "        original = tf.multiply(self.w, x)\n",
    "        original=tf.add(original, self.p)\n",
    "        \n",
    "        sin_trans = tf.sin(K.dot(x, self.W) + self.P)\n",
    "        \n",
    "        return tf.concat([sin_trans, original], -1)"
   ]
  },
  {
   "cell_type": "code",
   "execution_count": 9,
   "metadata": {
    "id": "CBZFlhnbsDp3"
   },
   "outputs": [],
   "source": [
    "def label_encoder(column):\n",
    "    '''\n",
    "    This function help us to Encode the class labels of \n",
    "    the corresponding terminal into their respective \n",
    "    numeric labels\n",
    "    '''\n",
    "    if column =='Available': # Available ==0\n",
    "        return 0\n",
    "    elif column=='Charging': # charging==1\n",
    "        return 1\n",
    "    elif column=='Passive': # Passive==2\n",
    "        return 2\n",
    "    elif column=='Offline': # offline==3\n",
    "        return 3\n",
    "    else: return 4    # Down==4\n",
    "# utilize it along with apply method"
   ]
  },
  {
   "cell_type": "code",
   "execution_count": 10,
   "metadata": {
    "id": "hKsajRhjG3no"
   },
   "outputs": [],
   "source": [
    "### DEFINE MODEL STRUCTURES ###\n",
    "\n",
    "def set_seed(seed):\n",
    "    \n",
    "    tf.random.set_seed(seed)\n",
    "    os.environ['PYTHONHASHSEED'] = str(seed)\n",
    "    np.random.seed(seed)\n",
    "    random.seed(seed)\n",
    "    \n",
    "\n",
    "def T2V_NN(t2v_dim, dim):\n",
    "    \n",
    "    set_seed(33)\n",
    "    \n",
    "    inp = layers.Input(shape=(dim,1))\n",
    "    x = T2V(t2v_dim)(inp)\n",
    "    x = layers.LSTM(50, activation='relu')(x)\n",
    "    #x= Dense(100, activation='relu')(x)\n",
    "    #x=tf.keras.layers.BatchNormalization()(x)\n",
    "    #x=Dense(64, activation='relu')(x)\n",
    "    x=layers.Dropout(0.2)(x)\n",
    "    #x=Dense(10)(x)\n",
    "    x = layers.Dense(5,activation='softmax')(x)\n",
    "    \n",
    "\n",
    "    m = Model(inp, x)\n",
    "\n",
    "    return m\n",
    "\n",
    "    "
   ]
  },
  {
   "cell_type": "code",
   "execution_count": 11,
   "metadata": {
    "id": "2XoxXSj9RUnD"
   },
   "outputs": [],
   "source": [
    "class_weight = {0: 0.5,\n",
    "                1: 4.5,\n",
    "               2: 5.1,\n",
    "               3:3.1,\n",
    "               4:3.2}"
   ]
  },
  {
   "cell_type": "code",
   "execution_count": 12,
   "metadata": {
    "colab": {
     "base_uri": "https://localhost:8080/"
    },
    "id": "TEzcYd2kVCGC",
    "outputId": "49553320-b9c0-458e-d1bd-12dbf00c1429"
   },
   "outputs": [
    {
     "name": "stderr",
     "output_type": "stream",
     "text": [
      "\r",
      "  0%|          | 0/273 [00:00<?, ?it/s]"
     ]
    },
    {
     "name": "stdout",
     "output_type": "stream",
     "text": [
      "WARNING:tensorflow:From /usr/local/lib/python3.7/dist-packages/tensorflow/python/ops/array_ops.py:5049: calling gather (from tensorflow.python.ops.array_ops) with validate_indices is deprecated and will be removed in a future version.\n",
      "Instructions for updating:\n",
      "The `validate_indices` argument has no effect. Indices are always validated on CPU and never validated on GPU.\n"
     ]
    },
    {
     "name": "stderr",
     "output_type": "stream",
     "text": [
      "100%|██████████| 273/273 [2:07:28<00:00, 28.02s/it]\n"
     ]
    }
   ],
   "source": [
    "tf.executing_eagerly()\n",
    "warnings.filterwarnings(\"ignore\")\n",
    "f1_state_terminal=[0,0,0,0,0, 0] # order available, passive, charging, offline, down\n",
    "f1_state_terminal_test=[0,0,0,0,0, 0] # order available, passive, charging, offline, down\n",
    "label_count=[0,0,0,0,0,0]\n",
    "for i in tqdm(range(0,data.shape[1])):\n",
    " \n",
    "  tf.keras.backend.clear_session()\n",
    "  terminal= data.columns[i] # Extracting the column names from the dataframe\n",
    "    #num_class=data[terminal].unique() # Unique labels present in the dataframe column\n",
    "  weekend=data[terminal].apply(label_encoder)\n",
    "  num_class=weekend.unique()\n",
    "  num_class.sort()\n",
    "  weekend_test=test_data[terminal].apply(label_encoder)\n",
    "  num_class_test=weekend_test.unique()\n",
    "  num_class_test.sort()\n",
    "  if len(num_class)>1:\n",
    "    unit=len(num_class)\n",
    "    #print(unit)\n",
    "    y=np.array(weekend).reshape(-1,1) # label encoding class labels\n",
    "    y_test=np.array(weekend_test).reshape(-1,1)\n",
    "    y_train1 = to_categorical(y, 5)\n",
    "    y_test1 = to_categorical(y_test, 5)\n",
    "    #print(y_train1.shape)\n",
    "    #print(y_test1.shape)   \n",
    "            # define model\n",
    "    model = T2V_NN(32, 5)\n",
    "    model.compile(loss='categorical_crossentropy',metrics=['accuracy'],optimizer=tf.keras.optimizers.Adam(learning_rate=1e-3))\n",
    "\n",
    "    \n",
    "    #class_weights = class_weight.compute_class_weight('balanced',weekend.unique(y) ,data[terminal])\n",
    "    #class_weights = dict(enumerate(class_weights))\n",
    "    model.fit(X, y_train1, epochs=20, batch_size=100, verbose=0, class_weight=class_weight)\n",
    "        \n",
    "    y_pred=model.predict(X)\n",
    "    val_predict=np.argmax(y_pred, axis=1) \n",
    "    val_target=np.argmax(y_train1, axis=1) \n",
    "    state_f1=f1_score(val_target, val_predict, average=None)\n",
    "        \n",
    "    y_pred_test=model.predict(X_test)\n",
    "    val_predict=np.argmax(y_pred_test, axis=1) \n",
    "    val_target=np.argmax(y_test1, axis=1) \n",
    "    state_f1_test=f1_score(val_target, val_predict, average=None)\n",
    "        \n",
    "    idx=0\n",
    "    for label in num_class:\n",
    "            #print(\"more than 1\",num_class)\n",
    "        f1_state_terminal[label]+=state_f1[idx]\n",
    "        label_count[label]+=1\n",
    "        idx+=1\n",
    "            #print('passed from if ')\n",
    "            \n",
    "    idx=0\n",
    "    for label in num_class_test:\n",
    "        f1_state_terminal_test[label]+=state_f1_test[idx]\n",
    "        idx+=1\n",
    "          \n",
    "  else:\n",
    "    for label in num_class:\n",
    "            #print('1 class',num_class)\n",
    "        f1_state_terminal[label]+=1 # Adding F1 score as 1 to the state where a terminal is in only one mode\n",
    "        label_count[label]+=1\n",
    "            #print('passed from else')\n",
    "        \n",
    "    for label in num_class_test:\n",
    "        f1_state_terminal_test[label]+=1 # Adding F1 score as 1 to the state where a terminal is in only one mode\n",
    " \n"
   ]
  },
  {
   "cell_type": "code",
   "execution_count": 13,
   "metadata": {
    "colab": {
     "base_uri": "https://localhost:8080/"
    },
    "id": "3DK1wKKJN8fM",
    "outputId": "b434d712-b894-499d-a4d4-4431ecb12361"
   },
   "outputs": [
    {
     "name": "stderr",
     "output_type": "stream",
     "text": [
      "100%|██████████| 273/273 [00:03<00:00, 85.10it/s]"
     ]
    },
    {
     "name": "stdout",
     "output_type": "stream",
     "text": [
      "7673484\n"
     ]
    },
    {
     "name": "stderr",
     "output_type": "stream",
     "text": [
      "\n"
     ]
    }
   ],
   "source": [
    "av_count=0\n",
    "ch_count=0\n",
    "pa_count=0\n",
    "do_count=0\n",
    "of_count=0\n",
    "for i in tqdm(range(0,data.shape[1])):\n",
    "    \n",
    "    terminal= data.columns[i] # Extracting the column names from the dataframe\n",
    "    labels=data[terminal]\n",
    "    for i in labels:\n",
    "        #print(i)\n",
    "        if i=='Available':\n",
    "            av_count+=1\n",
    "        if i=='Charging':\n",
    "            ch_count+=1\n",
    "        if i=='Passive':\n",
    "            pa_count+=1\n",
    "        if i=='Down':\n",
    "            do_count+=1\n",
    "        if i=='Offline':\n",
    "            of_count+=1\n",
    "tot_count=av_count+ch_count+pa_count+do_count+of_count\n",
    "print(tot_count)\n",
    "prob_list=[0,0,0,0,0]# order available, passive, charging, offline, down\n",
    "prob_list[0]=av_count/tot_count\n",
    "prob_list[1]=pa_count/tot_count\n",
    "prob_list[2]=ch_count/tot_count\n",
    "prob_list[3]=of_count/tot_count\n",
    "prob_list[4]=do_count/tot_count"
   ]
  },
  {
   "cell_type": "code",
   "execution_count": 14,
   "metadata": {
    "colab": {
     "base_uri": "https://localhost:8080/"
    },
    "id": "8fBATrxjM81_",
    "outputId": "7f7d5bca-4f96-4299-d6c3-5cca0b20e064"
   },
   "outputs": [
    {
     "name": "stdout",
     "output_type": "stream",
     "text": [
      "The Combined Average F1 scores of train Terminals  [0.6242982686601043, 0.28245953905003734, 0.4487842805130965, 0.6678907756612773, 0.34569488591457675, 0]\n",
      "The Combined Average F1 scores of test Terminals  [0.32994522241882873, 0.11866553748905556, 0.09062716694879726, 0.23224475265440925, 0.0627496136916367, 0]\n",
      "The final F1 score is 0.5732008284082488\n",
      "The final F1 score is 0.25913652987586877\n"
     ]
    }
   ],
   "source": [
    "#print('The counts of the class labels in train data', label_count)\n",
    "#print(\"The Combined F1 scores of Terminals \",f1_state_terminal) # order available, passive, charging, offline, down\n",
    "for i in range(len(label_count)-1):\n",
    "    f1_state_terminal[i]/=273\n",
    "print(\"The Combined Average F1 scores of train Terminals \",f1_state_terminal) # order available, passive, charging, offline, down\n",
    "\n",
    "#print(\"The Combined F1 scores of test Terminals \",f1_state_terminal_test) # order available, passive, charging, offline, down\n",
    "for i in range(len(label_count)-1):\n",
    "    f1_state_terminal_test[i]/=273\n",
    "print(\"The Combined Average F1 scores of test Terminals \",f1_state_terminal_test) # order available, passive, charging, offline,down\n",
    "\n",
    "f1_final=0\n",
    "#print(\" The probabilities of the train states\",prob_list)\n",
    "for i in range(len(prob_list)):\n",
    "    f1_final+=prob_list[i]*f1_state_terminal[i]\n",
    "print('The final F1 score is', f1_final)\n",
    "\n",
    "f1_final_test=0\n",
    "\n",
    "for i in range(len(prob_list)):\n",
    "    f1_final_test+=prob_list[i]*f1_state_terminal_test[i]\n",
    "print('The final F1 score is', f1_final_test)"
   ]
  }
 ],
 "metadata": {
  "colab": {
   "collapsed_sections": [],
   "name": "T2v_LSTM.ipynb",
   "provenance": []
  },
  "kernelspec": {
   "display_name": "Python 3",
   "language": "python",
   "name": "python3"
  },
  "language_info": {
   "codemirror_mode": {
    "name": "ipython",
    "version": 3
   },
   "file_extension": ".py",
   "mimetype": "text/x-python",
   "name": "python",
   "nbconvert_exporter": "python",
   "pygments_lexer": "ipython3",
   "version": "3.8.5"
  }
 },
 "nbformat": 4,
 "nbformat_minor": 1
}
